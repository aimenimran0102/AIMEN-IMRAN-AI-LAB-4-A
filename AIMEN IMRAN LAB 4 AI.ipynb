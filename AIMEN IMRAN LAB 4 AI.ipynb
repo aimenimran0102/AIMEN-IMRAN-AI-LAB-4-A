{
 "cells": [
  {
   "cell_type": "code",
   "execution_count": 24,
   "id": "c3c8d7b3-6cf6-4bcd-b714-08d81cd14dd9",
   "metadata": {},
   "outputs": [
    {
     "name": "stdout",
     "output_type": "stream",
     "text": [
      "Predicted Result: [0 0]\n",
      "Confusion Matrix:\n",
      " [[1 0]\n",
      " [1 0]]\n",
      "Accuracy: 0.5\n"
     ]
    }
   ],
   "source": [
    "import pandas as pd\n",
    "from sklearn import preprocessing\n",
    "from sklearn.naive_bayes import GaussianNB\n",
    "from sklearn.metrics import confusion_matrix, accuracy_score\n",
    "from sklearn.model_selection import train_test_split\n",
    "\n",
    "# Sample data (Manually converted from the image)\n",
    "data = {\n",
    "    'Product ID': [301, 302, 303, 304, 305, 306],\n",
    "    'Product Category': ['Electronics', 'Clothing', 'Food', 'Furniture', 'Accessories', 'Electronics'],\n",
    "    'Units Sold': [500, 150, 50, 400, 100, 300],\n",
    "    'Price': [100, 30, 10, 200, 20, 120],\n",
    "    'Seasonal Demand': ['Yes', 'No', 'Yes', 'No', 'Yes', 'Yes'],\n",
    "    'Supplier Reliability': [5, 3, 4, 4, 2, 5],\n",
    "    'Return Rate (%)': [2, 5, 3, 1, 8, 3],\n",
    "    'Stock Availability': ['High', 'Medium', 'Low', 'High', 'Medium', 'High'],\n",
    "    'Demand Category': ['High Demand', 'Moderate Demand', 'Low Demand', 'High Demand', 'Moderate Demand', 'High Demand']\n",
    "}\n",
    "\n",
    "# Convert data into a DataFrame\n",
    "df = pd.DataFrame(data)\n",
    "\n",
    "# Encoding categorical features\n",
    "le = preprocessing.LabelEncoder()\n",
    "df['Product Category'] = le.fit_transform(df['Product Category'])\n",
    "df['Seasonal Demand'] = le.fit_transform(df['Seasonal Demand'])\n",
    "df['Stock Availability'] = le.fit_transform(df['Stock Availability'])\n",
    "df['Demand Category'] = le.fit_transform(df['Demand Category'])\n",
    "\n",
    "# Selecting features and label\n",
    "features = df[['Product Category', 'Units Sold', 'Price', 'Seasonal Demand', \n",
    "               'Supplier Reliability', 'Return Rate (%)', 'Stock Availability']]\n",
    "label = df['Demand Category']\n",
    "\n",
    "# Splitting the data\n",
    "features_train, features_test, label_train, label_test = train_test_split(features, label, test_size=0.2, random_state=42)\n",
    "\n",
    "# Initialize and train the model\n",
    "model = GaussianNB()\n",
    "model.fit(features_train, label_train)\n",
    "\n",
    "# Make predictions\n",
    "predicted = model.predict(features_test)\n",
    "print(\"Predicted Result:\", predicted)\n",
    "\n",
    "# Calculate confusion matrix and accuracy\n",
    "conf_mat = confusion_matrix(label_test, predicted)\n",
    "print(\"Confusion Matrix:\\n\", conf_mat)\n",
    "\n",
    "accuracy = accuracy_score(label_test, predicted)\n",
    "print(\"Accuracy:\", accuracy)\n"
   ]
  },
  {
   "cell_type": "code",
   "execution_count": null,
   "id": "352651d8-8dd5-432a-9a93-531a4f997d5a",
   "metadata": {},
   "outputs": [],
   "source": []
  }
 ],
 "metadata": {
  "kernelspec": {
   "display_name": "Python 3 (ipykernel)",
   "language": "python",
   "name": "python3"
  },
  "language_info": {
   "codemirror_mode": {
    "name": "ipython",
    "version": 3
   },
   "file_extension": ".py",
   "mimetype": "text/x-python",
   "name": "python",
   "nbconvert_exporter": "python",
   "pygments_lexer": "ipython3",
   "version": "3.12.7"
  }
 },
 "nbformat": 4,
 "nbformat_minor": 5
}
